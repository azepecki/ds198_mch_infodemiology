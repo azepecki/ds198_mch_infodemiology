{
 "cells": [
  {
   "cell_type": "code",
   "execution_count": 3,
   "metadata": {
    "scrolled": false
   },
   "outputs": [
    {
     "ename": "ModuleNotFoundError",
     "evalue": "No module named 'googleapiclient'",
     "output_type": "error",
     "traceback": [
      "\u001b[0;31m---------------------------------------------------------------------------\u001b[0m",
      "\u001b[0;31mModuleNotFoundError\u001b[0m                       Traceback (most recent call last)",
      "\u001b[0;32m<ipython-input-3-54f103a5d585>\u001b[0m in \u001b[0;36m<module>\u001b[0;34m\u001b[0m\n\u001b[1;32m      1\u001b[0m \u001b[0;31m# Import needed packages\u001b[0m\u001b[0;34m\u001b[0m\u001b[0;34m\u001b[0m\u001b[0;34m\u001b[0m\u001b[0m\n\u001b[1;32m      2\u001b[0m \u001b[0;32mimport\u001b[0m \u001b[0mcsv\u001b[0m\u001b[0;34m\u001b[0m\u001b[0;34m\u001b[0m\u001b[0m\n\u001b[0;32m----> 3\u001b[0;31m \u001b[0;32mimport\u001b[0m \u001b[0msearch\u001b[0m\u001b[0;34m\u001b[0m\u001b[0;34m\u001b[0m\u001b[0m\n\u001b[0m\u001b[1;32m      4\u001b[0m \u001b[0;32mimport\u001b[0m \u001b[0msimulate_keywords\u001b[0m\u001b[0;34m\u001b[0m\u001b[0;34m\u001b[0m\u001b[0m\n\u001b[1;32m      5\u001b[0m \u001b[0;32mfrom\u001b[0m \u001b[0mgoogle_client\u001b[0m \u001b[0;32mimport\u001b[0m \u001b[0mGoogleClient\u001b[0m\u001b[0;34m\u001b[0m\u001b[0;34m\u001b[0m\u001b[0m\n",
      "\u001b[0;32m~/Wallace Project/search.py\u001b[0m in \u001b[0;36m<module>\u001b[0;34m\u001b[0m\n\u001b[1;32m      5\u001b[0m \u001b[0;32mimport\u001b[0m \u001b[0mdatetime\u001b[0m\u001b[0;34m\u001b[0m\u001b[0;34m\u001b[0m\u001b[0m\n\u001b[1;32m      6\u001b[0m \u001b[0;32mimport\u001b[0m \u001b[0mcsv\u001b[0m\u001b[0;34m\u001b[0m\u001b[0;34m\u001b[0m\u001b[0m\n\u001b[0;32m----> 7\u001b[0;31m \u001b[0;32mimport\u001b[0m \u001b[0msimulate_keywords\u001b[0m\u001b[0;34m\u001b[0m\u001b[0;34m\u001b[0m\u001b[0m\n\u001b[0m\u001b[1;32m      8\u001b[0m \u001b[0;34m\u001b[0m\u001b[0m\n\u001b[1;32m      9\u001b[0m \"\"\"\n",
      "\u001b[0;32m~/Wallace Project/simulate_keywords.py\u001b[0m in \u001b[0;36m<module>\u001b[0;34m\u001b[0m\n\u001b[1;32m      6\u001b[0m \u001b[0;32mimport\u001b[0m \u001b[0merrno\u001b[0m\u001b[0;34m\u001b[0m\u001b[0;34m\u001b[0m\u001b[0m\n\u001b[1;32m      7\u001b[0m \u001b[0;32mimport\u001b[0m \u001b[0mtime\u001b[0m\u001b[0;34m\u001b[0m\u001b[0;34m\u001b[0m\u001b[0m\n\u001b[0;32m----> 8\u001b[0;31m \u001b[0;32mfrom\u001b[0m \u001b[0mgoogle_client\u001b[0m \u001b[0;32mimport\u001b[0m \u001b[0mGoogleClient\u001b[0m\u001b[0;34m\u001b[0m\u001b[0;34m\u001b[0m\u001b[0m\n\u001b[0m\u001b[1;32m      9\u001b[0m \u001b[0;34m\u001b[0m\u001b[0m\n\u001b[1;32m     10\u001b[0m \u001b[0;34m\u001b[0m\u001b[0m\n",
      "\u001b[0;32m~/Wallace Project/google_client.py\u001b[0m in \u001b[0;36m<module>\u001b[0;34m\u001b[0m\n\u001b[1;32m      1\u001b[0m \u001b[0;32mimport\u001b[0m \u001b[0msys\u001b[0m\u001b[0;34m\u001b[0m\u001b[0;34m\u001b[0m\u001b[0m\n\u001b[1;32m      2\u001b[0m \u001b[0;32mimport\u001b[0m \u001b[0mos\u001b[0m\u001b[0;34m\u001b[0m\u001b[0;34m\u001b[0m\u001b[0m\n\u001b[0;32m----> 3\u001b[0;31m \u001b[0;32mfrom\u001b[0m \u001b[0mgoogleapiclient\u001b[0m\u001b[0;34m.\u001b[0m\u001b[0mdiscovery\u001b[0m \u001b[0;32mimport\u001b[0m \u001b[0mbuild\u001b[0m\u001b[0;34m\u001b[0m\u001b[0;34m\u001b[0m\u001b[0m\n\u001b[0m\u001b[1;32m      4\u001b[0m \u001b[0;32mfrom\u001b[0m \u001b[0mgoogle_auth_oauthlib\u001b[0m\u001b[0;34m.\u001b[0m\u001b[0mflow\u001b[0m \u001b[0;32mimport\u001b[0m \u001b[0mInstalledAppFlow\u001b[0m\u001b[0;34m\u001b[0m\u001b[0;34m\u001b[0m\u001b[0m\n\u001b[1;32m      5\u001b[0m \u001b[0;32mfrom\u001b[0m \u001b[0mgoogle\u001b[0m\u001b[0;34m.\u001b[0m\u001b[0mauth\u001b[0m\u001b[0;34m.\u001b[0m\u001b[0mtransport\u001b[0m\u001b[0;34m.\u001b[0m\u001b[0mrequests\u001b[0m \u001b[0;32mimport\u001b[0m \u001b[0mRequest\u001b[0m\u001b[0;34m\u001b[0m\u001b[0;34m\u001b[0m\u001b[0m\n",
      "\u001b[0;31mModuleNotFoundError\u001b[0m: No module named 'googleapiclient'"
     ]
    }
   ],
   "source": [
    "# Import needed packages\n",
    "import csv\n",
    "import search\n",
    "import simulate_keywords\n",
    "from google_client import GoogleClient"
   ]
  },
  {
   "cell_type": "code",
   "execution_count": 4,
   "metadata": {},
   "outputs": [],
   "source": [
    "# %env TRENDS_DEVELOPER_KEY="
   ]
  },
  {
   "cell_type": "code",
   "execution_count": 5,
   "metadata": {},
   "outputs": [],
   "source": [
    "# Control your initial search terms which you would like to run the simulation for here\n",
    "initial_search_terms = [\"food banks near me\"]"
   ]
  },
  {
   "cell_type": "code",
   "execution_count": 5,
   "metadata": {},
   "outputs": [],
   "source": [
    "def load_geolocations(): \n",
    "    locations = []\n",
    "    with open(simulate_keywords.Simulation.LOCATIONS_FILE, \"r\") as csvfile: \n",
    "        reader = csv.DictReader(csvfile)\n",
    "        for row in reader: \n",
    "            code = row[\"geo_code\"]\n",
    "            description = row[\"description\"]\n",
    "            locations.append({\"code\": code, \"description\": description})\n",
    "    return locations"
   ]
  },
  {
   "cell_type": "code",
   "execution_count": 6,
   "metadata": {},
   "outputs": [],
   "source": [
    "\"\"\"\n",
    "Generate master list of top queries for all geolocations during the specified time period\n",
    "Get relative search volume of top queries for initial search term\n",
    "\"\"\"\n",
    "def run_simulation(initial_search_term, startDateTrends='2020-01', endDateTrends='2020-08', startDateTimelines='2020-01-01', endDateTimelines='2020-08-31'): \n",
    "    master_list = set()\n",
    "    relative_search_volumes = dict()\n",
    "    for loc in load_geolocations(): \n",
    "                simulation = simulate_keywords.Simulation(initial_search_term, loc, startDateTrends, endDateTrends, startDateTimelines, endDateTimelines)\n",
    "        \n",
    "        simulation.generate_keywords()\n",
    "        simulation.get_relative_search_volumes()\n",
    "        simulation.generate_simulation_csvs()\n",
    "        top_queries = [q['query'] for q in simulation.initial_queries]\n",
    "        for query in top_queries: \n",
    "             master_list.add(query)\n",
    "        relative_search_volumes[loc['code']] = simulation.relative_search_volumes\n",
    "    return master_list, relative_search_volumes"
   ]
  },
  {
   "cell_type": "code",
   "execution_count": 7,
   "metadata": {},
   "outputs": [],
   "source": [
    "\"\"\"\n",
    "Run the simulation for all initial search terms \n",
    "Generates a dictionary mapping initial_search_term to its master list for all locations\n",
    "Generates a dictionary mapping initial_serach_term to its relative search volumes for all locations\n",
    "\"\"\"\n",
    "all_master_lists = dict()\n",
    "all_relative_search_volumes = dict()\n",
    "for initial_search_term in initial_search_terms: \n",
    "    master_list, relative_search_volumes = run_simulation(initial_search_term) # Note: must specify explicit startDate & endDate unless wish to use default values\n",
    "    all_master_lists[initial_search_term] = list(master_list)\n",
    "    all_relative_search_volumes[initial_search_term] = relative_search_volumes "
   ]
  },
  {
   "cell_type": "code",
   "execution_count": 8,
   "metadata": {},
   "outputs": [
    {
     "data": {
      "text/plain": [
       "{'food banks near me': {'US': [{'open food banks near me': 0.003987066249247087},\n",
       "   {'food open near me': 0.5313591941026181},\n",
       "   {'food bank': 0.3163857752534503},\n",
       "   {'food bank near me': 0.03982112928206027},\n",
       "   {'food banks near me today': 0.0025479263587956397},\n",
       "   {'food banks near me open today': 0.00214558601643791},\n",
       "   {'food banks open today': 0.0036053824776487646},\n",
       "   {'food pantry near me': 0.028606126693417493},\n",
       "   {'free food banks near me': 0.001390265741879042},\n",
       "   {'free food near me': 0.04415713917114515},\n",
       "   {'local food banks near me': 0.0010344720279345677},\n",
       "   {'local food near me': 0.011197732638669548},\n",
       "   {'local food banks': 0.002656164214333986},\n",
       "   {'food pantries near me': 0.008957594816649121},\n",
       "   {'good banks near me': 0.001355467030962015},\n",
       "   {'food banks near me open now': 0.00048798993612460864},\n",
       "   {'pet food banks near me': 0.00030498798862655296}],\n",
       "  'US-CA': [{'open food banks near me': 0.004182671622676035},\n",
       "   {'food open near me': 0.4676953398260946},\n",
       "   {'food bank': 0.3695833366629522},\n",
       "   {'food bank near me': 0.05761182108760685},\n",
       "   {'food banks near me today': 0.005152423220336509},\n",
       "   {'food banks near me open today': 0.003255403909750895},\n",
       "   {'food banks open today': 0.004218552146549332},\n",
       "   {'food pantry near me': 0.015610375167718259},\n",
       "   {'free food banks near me': 0.003751144743607726},\n",
       "   {'free food near me': 0.048344307971648896},\n",
       "   {'local food banks near me': 0.0013650577570026592},\n",
       "   {'local food near me': 0.008759070328359255},\n",
       "   {'local food banks': 0.004338219317409799},\n",
       "   {'food pantries near me': 0.0043572614224676115},\n",
       "   {'good banks near me': 0.0017750148158194139},\n",
       "   {'food banks near me open now': 0.0},\n",
       "   {'pet food banks near me': 0.0}]}}"
      ]
     },
     "execution_count": 8,
     "metadata": {},
     "output_type": "execute_result"
    }
   ],
   "source": [
    "all_relative_search_volumes"
   ]
  },
  {
   "cell_type": "code",
   "execution_count": 9,
   "metadata": {},
   "outputs": [],
   "source": [
    "\"\"\"\n",
    "Get the top sites and the normalized site probabilities for each initial search term\n",
    "\"\"\"\n",
    "for initial_search_term, location_dicts in all_relative_search_volumes.items(): \n",
    "    # We can only get the top sites at the US level, so we ignore all other locations\n",
    "    # This will generate CSV files in output/search\n",
    "    search.main(location_dicts['US'], initial_search_term)"
   ]
  }
 ],
 "metadata": {
  "kernelspec": {
   "display_name": "Python 3",
   "language": "python",
   "name": "python3"
  },
  "language_info": {
   "codemirror_mode": {
    "name": "ipython",
    "version": 3
   },
   "file_extension": ".py",
   "mimetype": "text/x-python",
   "name": "python",
   "nbconvert_exporter": "python",
   "pygments_lexer": "ipython3",
   "version": "3.8.5"
  }
 },
 "nbformat": 4,
 "nbformat_minor": 4
}